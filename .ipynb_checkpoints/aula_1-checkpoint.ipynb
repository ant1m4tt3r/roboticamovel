{
 "cells": [
  {
   "attachments": {
    "python.png": {
     "image/png": "[encoded data removed]"
    }
   },
   "cell_type": "markdown",
   "metadata": {},
   "source": [
    "![python.png](attachment:python.png)\n"
   ]
  },
  {
   "cell_type": "markdown",
   "metadata": {},
   "source": [
    "# 1 - Operações básicas"
   ]
  },
  {
   "cell_type": "markdown",
   "metadata": {},
   "source": [
    "# 2 - Tipos"
   ]
  },
  {
   "cell_type": "markdown",
   "metadata": {},
   "source": [
    "## 2.1 - Float, Int, Complex, Boolean"
   ]
  },
  {
   "cell_type": "markdown",
   "metadata": {},
   "source": [
    "## 2.2 - String"
   ]
  },
  {
   "cell_type": "markdown",
   "metadata": {},
   "source": [
    "## 2.3 - Listas"
   ]
  },
  {
   "cell_type": "markdown",
   "metadata": {},
   "source": [
    "## 2.4 - Dicionário"
   ]
  },
  {
   "cell_type": "markdown",
   "metadata": {},
   "source": [
    "## 2.5 - Tuplas"
   ]
  },
  {
   "cell_type": "markdown",
   "metadata": {},
   "source": [
    "## 2.1 - Conversões de Tipo"
   ]
  },
  {
   "cell_type": "markdown",
   "metadata": {},
   "source": [
    "# 3 - Operadores Lógicos"
   ]
  },
  {
   "cell_type": "markdown",
   "metadata": {},
   "source": [
    "# 4 - Teste de condições"
   ]
  },
  {
   "cell_type": "markdown",
   "metadata": {},
   "source": [
    "# 5 - Loops"
   ]
  },
  {
   "cell_type": "markdown",
   "metadata": {},
   "source": [
    "## 5.1 - For"
   ]
  },
  {
   "cell_type": "markdown",
   "metadata": {},
   "source": [
    "## 5.2 - While"
   ]
  },
  {
   "cell_type": "markdown",
   "metadata": {},
   "source": [
    "# 6 - Numpy"
   ]
  },
  {
   "cell_type": "markdown",
   "metadata": {},
   "source": [
    "É uma biblioteca de álgebra linear para o python. É extramente rápida, já que a maioria dos métodos foram compilados em C."
   ]
  },
  {
   "cell_type": "markdown",
   "metadata": {},
   "source": [
    "## 7 - Matplotlib"
   ]
  },
  {
   "cell_type": "code",
   "execution_count": 1,
   "metadata": {},
   "outputs": [],
   "source": [
    "import matplotlib\n",
    "import numpy as np\n",
    "import matplotlib.pyplot as plt"
   ]
  },
  {
   "cell_type": "code",
   "execution_count": 2,
   "metadata": {},
   "outputs": [
    {
     "data": {
      "image/png": "[encoded data removed]",
      "text/plain": [
       "<matplotlib.figure.Figure at 0x7f7ab2421dd8>"
      ]
     },
     "metadata": {},
     "output_type": "display_data"
    }
   ],
   "source": [
    "fig = plt.figure()\n",
    "ax = fig.add_subplot(111)\n",
    "a = np.array([[1.,2],[2.,4]])\n",
    "ax.set_xlim(-2, 5)\n",
    "ax.set_ylim(-2, 5)    \n",
    "ax.scatter(a[:][0], a[:][1], c='red',marker='x')\n",
    "plt.grid(True)"
   ]
  },
  {
   "cell_type": "markdown",
   "metadata": {},
   "source": [
    "# 8 - Funções"
   ]
  },
  {
   "cell_type": "code",
   "execution_count": 1,
   "metadata": {},
   "outputs": [
    {
     "name": "stdout",
     "output_type": "stream",
     "text": [
      "[array([0.07071068, 0.07071068]), array([0.14142136, 0.14142136]), array([0.21213203, 0.21213203]), array([0.28284271, 0.28284271]), array([0.35355339, 0.35355339]), array([0.42426407, 0.42426407]), array([0.49497475, 0.49497475]), array([0.56568542, 0.56568542]), array([0.6363961, 0.6363961]), array([0.70710678, 0.70710678]), array([0.77781746, 0.77781746]), array([0.84852814, 0.84852814]), array([0.91923882, 0.91923882]), array([0.98994949, 0.98994949]), array([1.06066017, 1.06066017]), array([1.13137085, 1.13137085]), array([1.20208153, 1.20208153]), array([1.27279221, 1.27279221]), array([1.34350288, 1.34350288]), array([1.41421356, 1.41421356]), array([1.48492424, 1.48492424]), array([1.55563492, 1.55563492]), array([1.6263456, 1.6263456]), array([1.69705627, 1.69705627]), array([1.76776695, 1.76776695]), array([1.83847763, 1.83847763]), array([1.90918831, 1.90918831]), array([1.97989899, 1.97989899]), array([2.05060967, 2.05060967]), array([2.12132034, 2.12132034]), array([2.19203102, 2.19203102]), array([2.2627417, 2.2627417]), array([2.33345238, 2.33345238]), array([2.40416306, 2.40416306]), array([2.47487373, 2.47487373]), array([2.54558441, 2.54558441]), array([2.61629509, 2.61629509]), array([2.68700577, 2.68700577]), array([2.75771645, 2.75771645]), array([2.82842712, 2.82842712]), array([2.8991378, 2.8991378]), array([2.96984848, 2.96984848]), array([3.04055916, 3.04055916]), array([3.11126984, 3.11126984]), array([3.18198052, 3.18198052]), array([3.25269119, 3.25269119]), array([3.32340187, 3.32340187]), array([3.39411255, 3.39411255]), array([3.46482323, 3.46482323]), array([3.53553391, 3.53553391]), array([3.60624458, 3.60624458]), array([3.67695526, 3.67695526]), array([3.74766594, 3.74766594]), array([3.81837662, 3.81837662]), array([3.8890873, 3.8890873]), array([3.95979797, 3.95979797]), array([4.03050865, 4.03050865]), array([4.10121933, 4.10121933]), array([4.17193001, 4.17193001]), array([4.24264069, 4.24264069]), array([4.31335137, 4.31335137]), array([4.38406204, 4.38406204]), array([4.45477272, 4.45477272]), array([4.5254834, 4.5254834]), array([4.59619408, 4.59619408]), array([4.66690476, 4.66690476]), array([4.73761543, 4.73761543]), array([4.80832611, 4.80832611]), array([4.87903679, 4.87903679]), array([4.94974747, 4.94974747]), array([5.02045815, 5.02045815]), array([5.09116882, 5.09116882]), array([5.1618795, 5.1618795]), array([5.23259018, 5.23259018]), array([5.30330086, 5.30330086]), array([5.37401154, 5.37401154]), array([5.44472222, 5.44472222]), array([5.51543289, 5.51543289]), array([5.58614357, 5.58614357]), array([5.65685425, 5.65685425]), array([5.72756493, 5.72756493]), array([5.79827561, 5.79827561]), array([5.86898628, 5.86898628]), array([5.93969696, 5.93969696]), array([6.01040764, 6.01040764]), array([6.08111832, 6.08111832]), array([6.151829, 6.151829]), array([6.22253967, 6.22253967]), array([6.29325035, 6.29325035]), array([6.36396103, 6.36396103]), array([6.43467171, 6.43467171]), array([6.50538239, 6.50538239]), array([6.57609307, 6.57609307]), array([6.64680374, 6.64680374]), array([6.71751442, 6.71751442]), array([6.7882251, 6.7882251]), array([6.85893578, 6.85893578]), array([6.92964646, 6.92964646]), array([7.00035713, 7.00035713]), array([7.07106781, 7.07106781]), array([7.14177849, 7.14177849]), array([7.21248917, 7.21248917]), array([7.28319985, 7.28319985]), array([7.35391052, 7.35391052]), array([7.4246212, 7.4246212]), array([7.49533188, 7.49533188]), array([7.56604256, 7.56604256]), array([7.63675324, 7.63675324]), array([7.70746391, 7.70746391]), array([7.77817459, 7.77817459]), array([7.84888527, 7.84888527]), array([7.91959595, 7.91959595]), array([7.99030663, 7.99030663]), array([8.06101731, 8.06101731]), array([8.13172798, 8.13172798]), array([8.20243866, 8.20243866]), array([8.27314934, 8.27314934]), array([8.34386002, 8.34386002]), array([8.4145707, 8.4145707]), array([8.48528137, 8.48528137]), array([8.55599205, 8.55599205]), array([8.62670273, 8.62670273]), array([8.69741341, 8.69741341]), array([8.76812409, 8.76812409]), array([8.83883476, 8.83883476]), array([8.90954544, 8.90954544]), array([8.98025612, 8.98025612]), array([9.0509668, 9.0509668]), array([9.12167748, 9.12167748]), array([9.19238816, 9.19238816]), array([9.26309883, 9.26309883]), array([9.33380951, 9.33380951]), array([9.40452019, 9.40452019]), array([9.47523087, 9.47523087]), array([9.54594155, 9.54594155]), array([9.61665222, 9.61665222]), array([9.6873629, 9.6873629]), array([9.75807358, 9.75807358]), array([9.82878426, 9.82878426]), array([9.89949494, 9.89949494]), array([9.97020561, 9.97020561]), array([10.04091629, 10.04091629])]\n"
     ]
    }
   ],
   "source": [
    "import math\n",
    "import numpy as np\n",
    "import matplotlib\n",
    "import matplotlib.pyplot as plt\n",
    "\n",
    "\n",
    "def calc_pos(p0, pf, ta, v, ts):\n",
    "    dist = distance(p0, pf)\n",
    "    coefficient = angle(p0, pf)\n",
    "    max_time = dist / v\n",
    "    interval = max_time / ts\n",
    "    current_pos = p0\n",
    "    positions = []\n",
    "    interval = 0\n",
    "    while interval < max_time:\n",
    "        velocity = v * ts\n",
    "        current_pos = [current_pos[0] + velocity *\n",
    "                       math.cos(coefficient), current_pos[1] + velocity * math.sin(coefficient)]\n",
    "        x = current_pos[0]\n",
    "        y = current_pos[1]\n",
    "        positions.append(np.array([x, y]))\n",
    "        interval += ts\n",
    "\n",
    "    plot(positions)\n",
    "    # print(positions)\n",
    "\n",
    "\n",
    "def plot(data):\n",
    "    # print(data)\n",
    "    fig = plt.figure()\n",
    "    ax = fig.add_subplot(111)\n",
    "    ax.set_xlim(-2, 12)\n",
    "    ax.set_ylim(-2, 12)\n",
    "    ax.scatter(data[:][0], data[:][1], c='red', marker='x')\n",
    "    plt.grid(True)\n",
    "\n",
    "\n",
    "def distance(t1, t2):\n",
    "    return ((t2[0] - t1[0])**2 + (t2[1] - t1[1])**2)**(0.5)\n",
    "\n",
    "\n",
    "def angle(t1, t2):\n",
    "    return math.atan2(t2[1] - t1[1], t2[0] - t1[0])\n",
    "\n",
    "\n",
    "p0 = np.array([0, 0])\n",
    "pf = np.array([10, 10])\n",
    "ta = 0\n",
    "v = 1\n",
    "ts = 0.1\n",
    "calc_pos(p0, pf, ta, v, ts)\n"
   ]
  },
  {
   "cell_type": "code",
   "execution_count": null,
   "metadata": {},
   "outputs": [],
   "source": []
  }
 ],
 "metadata": {
  "kernelspec": {
   "display_name": "Python 3",
   "language": "python",
   "name": "python3"
  },
  "language_info": {
   "codemirror_mode": {
    "name": "ipython",
    "version": 3
   },
   "file_extension": ".py",
   "mimetype": "text/x-python",
   "name": "python",
   "nbconvert_exporter": "python",
   "pygments_lexer": "ipython3",
   "version": "3.5.5"
  }
 },
 "nbformat": 4,
 "nbformat_minor": 2
}

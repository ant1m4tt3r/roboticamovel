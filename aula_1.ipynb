{
 "cells": [
  {
   "attachments": {
    "python.png": {
     "image/png": "[encoded data removed]"
    }
   },
   "cell_type": "markdown",
   "metadata": {},
   "source": [
    "![python.png](attachment:python.png)\n"
   ]
  },
  {
   "cell_type": "markdown",
   "metadata": {},
   "source": [
    "# 1 - Operações básicas"
   ]
  },
  {
   "cell_type": "markdown",
   "metadata": {},
   "source": [
    "# 2 - Tipos"
   ]
  },
  {
   "cell_type": "markdown",
   "metadata": {},
   "source": [
    "## 2.1 - Float, Int, Complex, Boolean"
   ]
  },
  {
   "cell_type": "markdown",
   "metadata": {},
   "source": [
    "## 2.2 - String"
   ]
  },
  {
   "cell_type": "markdown",
   "metadata": {},
   "source": [
    "## 2.3 - Listas"
   ]
  },
  {
   "cell_type": "markdown",
   "metadata": {},
   "source": [
    "## 2.4 - Dicionário"
   ]
  },
  {
   "cell_type": "markdown",
   "metadata": {},
   "source": [
    "## 2.5 - Tuplas"
   ]
  },
  {
   "cell_type": "markdown",
   "metadata": {},
   "source": [
    "## 2.1 - Conversões de Tipo"
   ]
  },
  {
   "cell_type": "markdown",
   "metadata": {},
   "source": [
    "# 3 - Operadores Lógicos"
   ]
  },
  {
   "cell_type": "markdown",
   "metadata": {},
   "source": [
    "# 4 - Teste de condições"
   ]
  },
  {
   "cell_type": "markdown",
   "metadata": {},
   "source": [
    "# 5 - Loops"
   ]
  },
  {
   "cell_type": "markdown",
   "metadata": {},
   "source": [
    "## 5.1 - For"
   ]
  },
  {
   "cell_type": "markdown",
   "metadata": {},
   "source": [
    "## 5.2 - While"
   ]
  },
  {
   "cell_type": "markdown",
   "metadata": {},
   "source": [
    "# 6 - Numpy"
   ]
  },
  {
   "cell_type": "markdown",
   "metadata": {},
   "source": [
    "É uma biblioteca de álgebra linear para o python. É extramente rápida, já que a maioria dos métodos foram compilados em C."
   ]
  },
  {
   "cell_type": "markdown",
   "metadata": {},
   "source": [
    "## 7 - Matplotlib"
   ]
  },
  {
   "cell_type": "code",
   "execution_count": 1,
   "metadata": {},
   "outputs": [],
   "source": [
    "import matplotlib\n",
    "import numpy as np\n",
    "import matplotlib.pyplot as plt"
   ]
  },
  {
   "cell_type": "code",
   "execution_count": 2,
   "metadata": {},
   "outputs": [
    {
     "data": {
      "image/png": "[encoded data removed]",
      "text/plain": [
       "<matplotlib.figure.Figure at 0x7f7ab2421dd8>"
      ]
     },
     "metadata": {},
     "output_type": "display_data"
    }
   ],
   "source": [
    "fig = plt.figure()\n",
    "ax = fig.add_subplot(111)\n",
    "a = np.array([[1.,2],[2.,4]])\n",
    "ax.set_xlim(-2, 5)\n",
    "ax.set_ylim(-2, 5)    \n",
    "ax.scatter(a[:][0], a[:][1], c='red',marker='x')\n",
    "plt.grid(True)"
   ]
  },
  {
   "cell_type": "markdown",
   "metadata": {},
   "source": [
    "# 8 - Funções"
   ]
  },
  {
   "cell_type": "code",
   "execution_count": 3,
   "metadata": {},
   "outputs": [
    {
     "data": {
      "image/png": "[encoded data removed]",
      "text/plain": [
       "<Figure size 432x288 with 1 Axes>"
      ]
     },
     "metadata": {},
     "output_type": "display_data"
    }
   ],
   "source": [
    "import math\n",
    "import numpy as np\n",
    "import matplotlib\n",
    "import matplotlib.pyplot as plt\n",
    "\n",
    "\n",
    "def calc_pos(p0, pf, ta, v, ts):\n",
    "    dist = distance(p0, pf)\n",
    "    coefficient = angle(p0, pf)\n",
    "    max_time = dist / v\n",
    "    interval = max_time / ts\n",
    "    current_pos = p0\n",
    "    positions = []\n",
    "    interval = 0\n",
    "    while interval < max_time:\n",
    "        velocity = v * ts\n",
    "        current_pos = [current_pos[0] + velocity *\n",
    "                       math.cos(coefficient), current_pos[1] + velocity * math.sin(coefficient)]\n",
    "        x = current_pos[0]\n",
    "        y = current_pos[1]\n",
    "        positions.append(np.array([x, y]))\n",
    "        interval += ts\n",
    "\n",
    "    plot(positions)\n",
    "    # print(positions)\n",
    "\n",
    "\n",
    "def plot(data):\n",
    "    # print(data)\n",
    "    fig = plt.figure()\n",
    "    ax = fig.add_subplot(111)\n",
    "    ax.set_xlim(-2, 12)\n",
    "    ax.set_ylim(-2, 12)\n",
    "    ax.scatter(data[:][0], data[:][1], c='red', marker='x')\n",
    "    plt.grid(True)\n",
    "\n",
    "\n",
    "def distance(t1, t2):\n",
    "    return ((t2[0] - t1[0])**2 + (t2[1] - t1[1])**2)**(0.5)\n",
    "\n",
    "\n",
    "def angle(t1, t2):\n",
    "    return math.atan2(t2[1] - t1[1], t2[0] - t1[0])\n",
    "\n",
    "\n",
    "p0 = np.array([0, 0])\n",
    "pf = np.array([10, 10])\n",
    "ta = 0\n",
    "v = 1\n",
    "ts = 0.1\n",
    "calc_pos(p0, pf, ta, v, ts)\n"
   ]
  },
  {
   "cell_type": "code",
   "execution_count": null,
   "metadata": {},
   "outputs": [],
   "source": []
  }
 ],
 "metadata": {
  "kernelspec": {
   "display_name": "Python 3",
   "language": "python",
   "name": "python3"
  },
  "language_info": {
   "codemirror_mode": {
    "name": "ipython",
    "version": 3
   },
   "file_extension": ".py",
   "mimetype": "text/x-python",
   "name": "python",
   "nbconvert_exporter": "python",
   "pygments_lexer": "ipython3",
   "version": "3.5.5"
  }
 },
 "nbformat": 4,
 "nbformat_minor": 2
}
